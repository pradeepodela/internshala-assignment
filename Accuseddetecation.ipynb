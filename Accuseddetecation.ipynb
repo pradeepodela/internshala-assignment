{
 "cells": [
  {
   "cell_type": "markdown",
   "id": "5333edc3",
   "metadata": {},
   "source": [
    "# Accused detecation"
   ]
  },
  {
   "cell_type": "markdown",
   "id": "1290ac12",
   "metadata": {},
   "source": [
    "## Appendex :\n",
    "### we will be solving the problem using facial recognation method as i mentioned we will following process\n"
   ]
  },
  {
   "cell_type": "markdown",
   "id": "bb8513e8",
   "metadata": {},
   "source": [
    "## STEP1\n",
    "### Lets start by importing the all necessary libraries \n"
   ]
  },
  {
   "cell_type": "code",
   "execution_count": null,
   "id": "097dd1a9",
   "metadata": {},
   "outputs": [],
   "source": [
    "import cv2\n",
    "import numpy as np\n",
    "import face_recognition\n",
    "import os\n",
    "from datetime import datetime\n",
    "import smtplib\n",
    "from email.message import EmailMessage\n",
    "import imghdr\n",
    "import time"
   ]
  },
  {
   "cell_type": "markdown",
   "id": "0e31820e",
   "metadata": {},
   "source": [
    "## STEP2\n",
    "\n",
    "### Now create a folder and upload the images "
   ]
  },
  {
   "cell_type": "code",
   "execution_count": null,
   "id": "4f9f346b",
   "metadata": {},
   "outputs": [],
   "source": [
    "#### we will be getting the images from the accused database as we are protoypeing the project we will be \n",
    "#### uploading our own photos in the folder but in the case of producation we will be requisting the data from the database\n",
    "\n",
    "!mkdir Training_images"
   ]
  },
  {
   "cell_type": "markdown",
   "id": "cabdd78c",
   "metadata": {},
   "source": [
    "## STEP3\n",
    "### lets load the images "
   ]
  },
  {
   "cell_type": "code",
   "execution_count": null,
   "id": "b2788941",
   "metadata": {},
   "outputs": [],
   "source": [
    "path = 'Training_images'\n",
    "images = []\n",
    "classNames = []\n",
    "myList = os.listdir(path)\n",
    "for cl in myList:\n",
    "    curImg = cv2.imread(f'{path}/{cl}')\n",
    "    images.append(curImg)\n",
    "    classNames.append(os.path.splitext(cl)[0])\n",
    "print(classNames)"
   ]
  },
  {
   "cell_type": "markdown",
   "id": "c6fa3fe4",
   "metadata": {},
   "source": [
    "## STEP 4\n",
    "### Lets create all necessary funcations"
   ]
  },
  {
   "cell_type": "code",
   "execution_count": null,
   "id": "444e7145",
   "metadata": {},
   "outputs": [],
   "source": [
    "# we are using this funcation to get the encodings of the faces\n",
    "def findEncodings(images):\n",
    "    encodeList = []\n",
    "\n",
    "\n",
    "    for img in images:\n",
    "        img = cv2.cvtColor(img, cv2.COLOR_BGR2RGB)\n",
    "        encode = face_recognition.face_encodings(img)[0]\n",
    "        encodeList.append(encode)\n",
    "    return encodeList\n",
    "encodeListKnown = findEncodings(images)\n",
    "print('Encoding Completed')"
   ]
  },
  {
   "cell_type": "code",
   "execution_count": null,
   "id": "946e6414",
   "metadata": {},
   "outputs": [],
   "source": [
    "# we are using this funcation to alerting the owner at the producation level we can use IOT \n",
    "\n",
    "''' \n",
    "We are alerting the owner with a email here we are getting the image of accused from our model and mailing them\n",
    "'''\n",
    "def email_me(frame,mail,time):\n",
    "    Sender_Email = \"email@gmail.com\" # update with your mail\n",
    "    Reciever_Email = mail\n",
    "    Password = 'PASSWORD'   # update your password\n",
    "    img = frame\n",
    "    newMessage = EmailMessage()                         \n",
    "    newMessage['Subject'] = \"Accused found !!!!!!!\" \n",
    "    newMessage['From'] = Sender_Email                   \n",
    "    newMessage['To'] = Reciever_Email                   \n",
    "    newMessage.set_content(f'The following accused found at Time {time} at area Hyderabad here is the picture of accused ') \n",
    "\n",
    "    with open(img, 'rb') as f:\n",
    "        image_data = f.read()\n",
    "        image_type = imghdr.what(f.name)\n",
    "        image_name = f.name\n",
    "\n",
    "    newMessage.add_attachment(image_data, maintype='image', subtype=image_type, filename=image_name)\n",
    "\n",
    "    with smtplib.SMTP_SSL('smtp.gmail.com', 465) as smtp:\n",
    "        \n",
    "        smtp.login(Sender_Email, Password)              \n",
    "        smtp.send_message(newMessage)\n",
    "    print('success msg went')\n"
   ]
  },
  {
   "cell_type": "code",
   "execution_count": null,
   "id": "866df45c",
   "metadata": {},
   "outputs": [],
   "source": [
    "# this is the main processing funcation \n",
    "\n",
    "# STEP1 we are extracting the encodings of each image in our folder \n",
    "# STEP2 we are storing the encodings of each image with ther name in a list\n",
    "# STEP3 while the function is called we will be comapring the faces detecated in the frame with your accused data if we find \n",
    "# the match we will bw alerting the owner\n",
    "def atn(frame,eml):\n",
    "    email = eml\n",
    "\n",
    "    \n",
    "    \n",
    "    \n",
    "    imgS = cv2.cvtColor(frame, cv2.COLOR_BGR2RGB)\n",
    "\n",
    "    facesCurFrame = face_recognition.face_locations(imgS)\n",
    "    encodesCurFrame = face_recognition.face_encodings(imgS, facesCurFrame)\n",
    "\n",
    "    for encodeFace, faceLoc in zip(encodesCurFrame, facesCurFrame):\n",
    "        matches = face_recognition.compare_faces(encodeListKnown, encodeFace)\n",
    "        faceDis = face_recognition.face_distance(encodeListKnown, encodeFace)\n",
    "\n",
    "        matchIndex = np.argmin(faceDis)\n",
    "\n",
    "        if matches[matchIndex]:\n",
    "            name = classNames[matchIndex].upper()\n",
    "\n",
    "            y1, x2, y2, x1 = faceLoc\n",
    "            y1, x2, y2, x1 = y1 * 4, x2 * 4, y2 * 4, x1 * 4\n",
    "            cv2.rectangle(frame, (x1, y1), (x2, y2), (0, 255, 0), 2)\n",
    "            cv2.rectangle(frame, (x1, y2 - 35), (x2, y2), (0, 255, 0), cv2.FILLED)\n",
    "            cv2.putText(frame, name, (x1 + 6, y2 - 6), cv2.FONT_HERSHEY_COMPLEX, 1, (255, 255, 255), 2)\n",
    "            markAttendance(name,frame,email)\n",
    "            \n",
    "    return frame"
   ]
  },
  {
   "cell_type": "markdown",
   "id": "5dd8201e",
   "metadata": {},
   "source": [
    "## STEP 5\n",
    "### Lets run the main code "
   ]
  },
  {
   "cell_type": "code",
   "execution_count": null,
   "id": "759907a9",
   "metadata": {},
   "outputs": [],
   "source": [
    "cap = cv2.VideoCapture(1)\n",
    "while(cap.isOpened()):\n",
    "    ret, frame = cap.read()\n",
    "    frame = atn(frame,eml)\n",
    "    frame = cv2.cvtColor(frame, cv2.COLOR_BGR2RGB)\n",
    "    cv2.imshow('Frame', frame)\n",
    "    if cv2.waitKey(1) & 0xFF == ord('q'):\n",
    "        cap.release()\n",
    "        cv2.destroyAllWindows()\n",
    "        print('Execution completed')\n",
    "        break\n",
    "cap.release()\n",
    "cv2.destroyAllWindows()"
   ]
  }
 ],
 "metadata": {
  "kernelspec": {
   "display_name": "Python 3",
   "language": "python",
   "name": "python3"
  },
  "language_info": {
   "codemirror_mode": {
    "name": "ipython",
    "version": 3
   },
   "file_extension": ".py",
   "mimetype": "text/x-python",
   "name": "python",
   "nbconvert_exporter": "python",
   "pygments_lexer": "ipython3",
   "version": "3.8.8"
  }
 },
 "nbformat": 4,
 "nbformat_minor": 5
}
